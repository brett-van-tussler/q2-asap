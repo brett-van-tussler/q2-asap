{
 "cells": [
  {
   "cell_type": "code",
   "execution_count": 16,
   "id": "6d54e60b-7582-4d7a-8203-8f0c696c423d",
   "metadata": {},
   "outputs": [
    {
     "ename": "ValueError",
     "evalue": "fetch called on bamfile without index",
     "output_type": "error",
     "traceback": [
      "\u001b[0;31m---------------------------------------------------------------------------\u001b[0m",
      "\u001b[0;31mValueError\u001b[0m                                Traceback (most recent call last)",
      "Cell \u001b[0;32mIn[16], line 9\u001b[0m\n\u001b[1;32m      7\u001b[0m alignment_map_fp \u001b[38;5;241m=\u001b[39m \u001b[38;5;124m'\u001b[39m\u001b[38;5;124mq2_asap/tests/data/SARS2_157_1-20-22.bam\u001b[39m\u001b[38;5;124m'\u001b[39m\n\u001b[1;32m      8\u001b[0m bam_file \u001b[38;5;241m=\u001b[39m pysam\u001b[38;5;241m.\u001b[39mAlignmentFile(alignment_map_fp, \u001b[38;5;124m\"\u001b[39m\u001b[38;5;124mrb\u001b[39m\u001b[38;5;124m\"\u001b[39m)\n\u001b[0;32m----> 9\u001b[0m \u001b[38;5;28;01mfor\u001b[39;00m read \u001b[38;5;129;01min\u001b[39;00m \u001b[43mbam_file\u001b[49m\u001b[38;5;241;43m.\u001b[39;49m\u001b[43mfetch\u001b[49m\u001b[43m(\u001b[49m\u001b[43m)\u001b[49m:\n\u001b[1;32m     10\u001b[0m     \u001b[38;5;28mprint\u001b[39m(\u001b[38;5;124mf\u001b[39m\u001b[38;5;124m\"\u001b[39m\u001b[38;5;124mRead Name: \u001b[39m\u001b[38;5;132;01m{\u001b[39;00mread\u001b[38;5;241m.\u001b[39mquery_name\u001b[38;5;132;01m}\u001b[39;00m\u001b[38;5;124m\"\u001b[39m)\n\u001b[1;32m     11\u001b[0m     \u001b[38;5;28mprint\u001b[39m(\u001b[38;5;124mf\u001b[39m\u001b[38;5;124m\"\u001b[39m\u001b[38;5;124mIs First in Pair: \u001b[39m\u001b[38;5;132;01m{\u001b[39;00mread\u001b[38;5;241m.\u001b[39mis_read1\u001b[38;5;132;01m}\u001b[39;00m\u001b[38;5;124m\"\u001b[39m)\n",
      "File \u001b[0;32m~/miniforge3/envs/q2-asap/lib/python3.10/site-packages/pysam/libcalignmentfile.pyx:1103\u001b[0m, in \u001b[0;36mpysam.libcalignmentfile.AlignmentFile.fetch\u001b[0;34m()\u001b[0m\n",
      "\u001b[0;31mValueError\u001b[0m: fetch called on bamfile without index"
     ]
    }
   ],
   "source": [
    "import pysam\n",
    "from q2_nasp2_types.alignment import BAMSortedAndIndexedDirFmt\n",
    "import glob\n",
    "from qiime2 import Artifact\n",
    "\n",
    "\n",
    "alignment_map_fp = 'q2_asap/tests/data/SARS2_157_1-20-22.bam'\n",
    "bam_file = pysam.AlignmentFile(alignment_map_fp, \"rb\")\n",
    "for read in bam_file.fetch():\n",
    "    print(f\"Read Name: {read.query_name}\")\n",
    "    print(f\"Is First in Pair: {read.is_read1}\")\n",
    "    print(f\"Is Second in Pair: {read.is_read2}\")\n",
    "    print(f\"Mapping Quality: {read.mapping_quality}\")\n",
    "    print(f\"Mate's Reference Name: {read.next_reference_name}\")\n",
    "    print(f\"Mate's Position: {read.next_reference_start}\")\n",
    "\n",
    "\n"
   ]
  },
  {
   "cell_type": "code",
   "execution_count": 23,
   "id": "04af8583-cd5f-40fc-a17e-c3a1c8f81cde",
   "metadata": {},
   "outputs": [],
   "source": [
    "paired_end = Artifact.load('q2_asap/tests/data/paired-end-demux.qza')\n",
    "index = Artifact.load('q2_asap/tests/data/wuhan_sequence_index.qza')"
   ]
  },
  {
   "cell_type": "code",
   "execution_count": 22,
   "id": "da278dd0-3722-45a3-8161-347ffda60662",
   "metadata": {},
   "outputs": [],
   "source": [
    "from q2_aligners.actions.bwa import bwa_mem_paired"
   ]
  },
  {
   "cell_type": "code",
   "execution_count": 27,
   "id": "b76afed2-1573-4284-b262-f922a909e480",
   "metadata": {},
   "outputs": [
    {
     "data": {
      "text/plain": [
       "q2_nasp2_types.index._formats.BWAIndexDirFmt"
      ]
     },
     "execution_count": 27,
     "metadata": {},
     "output_type": "execute_result"
    }
   ],
   "source": [
    "index.format"
   ]
  },
  {
   "cell_type": "code",
   "execution_count": 25,
   "id": "c065388d-255b-413f-892d-95f1a46a2437",
   "metadata": {},
   "outputs": [
    {
     "ename": "AttributeError",
     "evalue": "'BoundFile' object has no attribute 'iloc'",
     "output_type": "error",
     "traceback": [
      "\u001b[0;31m---------------------------------------------------------------------------\u001b[0m",
      "\u001b[0;31mAttributeError\u001b[0m                            Traceback (most recent call last)",
      "Cell \u001b[0;32mIn[25], line 1\u001b[0m\n\u001b[0;32m----> 1\u001b[0m \u001b[43mbwa_mem_paired\u001b[49m\u001b[43m(\u001b[49m\u001b[43mpaired_end\u001b[49m\u001b[38;5;241;43m.\u001b[39;49m\u001b[43mview\u001b[49m\u001b[43m(\u001b[49m\u001b[43mpaired_end\u001b[49m\u001b[38;5;241;43m.\u001b[39;49m\u001b[43mformat\u001b[49m\u001b[43m)\u001b[49m\u001b[43m,\u001b[49m\u001b[43m \u001b[49m\u001b[43mindex\u001b[49m\u001b[38;5;241;43m.\u001b[39;49m\u001b[43mview\u001b[49m\u001b[43m(\u001b[49m\u001b[43mindex\u001b[49m\u001b[38;5;241;43m.\u001b[39;49m\u001b[43mformat\u001b[49m\u001b[43m)\u001b[49m\u001b[43m)\u001b[49m\n",
      "File \u001b[0;32m~/miniforge3/envs/q2-asap/lib/python3.10/site-packages/q2_aligners/actions/bwa.py:112\u001b[0m, in \u001b[0;36mbwa_mem_paired\u001b[0;34m(reads, ref_index)\u001b[0m\n\u001b[1;32m    109\u001b[0m \u001b[38;5;250m\u001b[39m\u001b[38;5;124;03m\"\"\" \"\"\"\u001b[39;00m\n\u001b[1;32m    110\u001b[0m bam_output \u001b[38;5;241m=\u001b[39m BAMSortedAndIndexedDirFmt()\n\u001b[0;32m--> 112\u001b[0m sample \u001b[38;5;241m=\u001b[39m \u001b[43mreads\u001b[49m\u001b[38;5;241;43m.\u001b[39;49m\u001b[43mmanifest\u001b[49m\u001b[38;5;241;43m.\u001b[39;49m\u001b[43miloc\u001b[49m[\u001b[38;5;241m0\u001b[39m]\n\u001b[1;32m    114\u001b[0m bam_name \u001b[38;5;241m=\u001b[39m \u001b[38;5;124mf\u001b[39m\u001b[38;5;124m\"\u001b[39m\u001b[38;5;132;01m{\u001b[39;00msample\u001b[38;5;241m.\u001b[39mname\u001b[38;5;132;01m}\u001b[39;00m\u001b[38;5;124m.bam\u001b[39m\u001b[38;5;124m\"\u001b[39m\n\u001b[1;32m    115\u001b[0m bam_output_path \u001b[38;5;241m=\u001b[39m Path(bam_output\u001b[38;5;241m.\u001b[39mpath \u001b[38;5;241m/\u001b[39m bam_name)\n",
      "\u001b[0;31mAttributeError\u001b[0m: 'BoundFile' object has no attribute 'iloc'"
     ]
    }
   ],
   "source": [
    "bwa_mem_paired(paired_end.view(paired_end.format), index.view(index.format))"
   ]
  },
  {
   "cell_type": "code",
   "execution_count": 10,
   "id": "f01f47f2-0243-4002-886f-0f38b8a2be20",
   "metadata": {},
   "outputs": [
    {
     "data": {
      "text/plain": [
       "<pysam.libcalignmentfile.AlignmentFile at 0x155550b83b50>"
      ]
     },
     "execution_count": 10,
     "metadata": {},
     "output_type": "execute_result"
    }
   ],
   "source": [
    "bam_file = pysam.AlignmentFile(alignment_map_fp, \"rb\")\n",
    "pysam.AlignmentFile('q2_asap/tests/data/bwamem_copy/output.sam', \"w\", header=bam_file.header)"
   ]
  },
  {
   "cell_type": "code",
   "execution_count": 12,
   "id": "ab35e4cd-7715-4f23-a08a-e0d2ee22d525",
   "metadata": {},
   "outputs": [],
   "source": [
    "sam_file = pysam.AlignmentFile('q2_asap/tests/data/bwamem_copy/output.sam', \"r\")\n",
    "\n",
    "# Iterate through each read in the SAM file (excluding the header)\n",
    "for read in sam_file.fetch():\n",
    "    print(read)"
   ]
  },
  {
   "cell_type": "code",
   "execution_count": null,
   "id": "1b2c5da4-54bd-424c-b0b6-412eba7d2ebd",
   "metadata": {},
   "outputs": [],
   "source": []
  }
 ],
 "metadata": {
  "kernelspec": {
   "display_name": "Python (q2-asap)",
   "language": "python",
   "name": "q2-asap"
  },
  "language_info": {
   "codemirror_mode": {
    "name": "ipython",
    "version": 3
   },
   "file_extension": ".py",
   "mimetype": "text/x-python",
   "name": "python",
   "nbconvert_exporter": "python",
   "pygments_lexer": "ipython3",
   "version": "3.10.14"
  }
 },
 "nbformat": 4,
 "nbformat_minor": 5
}
